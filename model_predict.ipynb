{
 "cells": [
  {
   "cell_type": "code",
   "execution_count": 118,
   "outputs": [],
   "source": [
    "import utils as ut\n",
    "import pandas as pd\n",
    "from sklearn.model_selection import train_test_split\n",
    "import xgboost as xgb\n",
    "from tqdm import tqdm\n",
    "from time import time\n",
    "from sklearn.metrics import classification_report, roc_auc_score\n",
    "\n",
    "pd.options.mode.chained_assignment = None"
   ],
   "metadata": {
    "collapsed": false,
    "pycharm": {
     "name": "#%%\n"
    }
   }
  },
  {
   "cell_type": "code",
   "execution_count": 119,
   "outputs": [],
   "source": [
    "train = pd.read_csv('./data/to_train.csv')\n",
    "test = pd.read_csv('./data/to_test.csv')\n"
   ],
   "metadata": {
    "collapsed": false,
    "pycharm": {
     "name": "#%%\n"
    }
   }
  },
  {
   "cell_type": "markdown",
   "source": [
    "## Обучение модели на тестовых данных и проверка на валидационных:"
   ],
   "metadata": {
    "collapsed": false,
    "pycharm": {
     "name": "#%% md\n"
    }
   }
  },
  {
   "cell_type": "code",
   "execution_count": 120,
   "outputs": [],
   "source": [
    "# # Разделяем датасет на X, y\n",
    "X, y = ut.split_to_x_y(train, 'gender')\n",
    "X_train, X_val, y_train, y_val = train_test_split(X, y, test_size=0.3, random_state=42)\n",
    "\n",
    "X_val.drop(columns=['id', 'Time'], inplace=True)\n",
    "X_train.drop(columns=['id', 'Time'], inplace=True)"
   ],
   "metadata": {
    "collapsed": false,
    "pycharm": {
     "name": "#%%\n"
    }
   }
  },
  {
   "cell_type": "code",
   "execution_count": 121,
   "outputs": [
    {
     "name": "stdout",
     "output_type": "stream",
     "text": [
      "XGBClassifier: \n",
      "- roc_auc_score: 0.9565\n",
      "- accuracy_score: 0.9565\n",
      "- f1_score: 0.9557\n",
      "\n",
      "5.302814245223999 секунд модель обучалась\n"
     ]
    }
   ],
   "source": [
    "s = time()\n",
    "# XGBoost\n",
    "xgb_model = xgb.XGBClassifier()\n",
    "xgb_model.fit(X_train, y_train)\n",
    "xgb_pred = xgb_model.predict(X_val)\n",
    "ut.print_classif_report('XGBClassifier', xgb_pred, y_val)\n",
    "print(time() - s, \"секунд модель обучалась\")"
   ],
   "metadata": {
    "collapsed": false,
    "pycharm": {
     "name": "#%%\n"
    }
   }
  },
  {
   "cell_type": "markdown",
   "source": [
    "## Тестирование модели на отложенных данных:"
   ],
   "metadata": {
    "collapsed": false,
    "pycharm": {
     "name": "#%% md\n"
    }
   }
  },
  {
   "cell_type": "code",
   "execution_count": 122,
   "outputs": [
    {
     "data": {
      "text/plain": "   mcc_code   amount  gender                                id  Day  Time  \\\n0      5411  0.07180       1  5da2eabcd7a953e750a8f77a3f296df6  333    23   \n1      6011  0.07300       1  4f7485a708eedc86aa4f22b76fe47724  367     0   \n2      6010  0.09780       1  ef6db1e716daa37f342ff1c4866545ea   31  rare   \n3      5411  0.01631       1  5fa2ed6c577aed609f6dc4fdb9d0b20a   66    23   \n4      6011 -0.10846       0  b4f418f44bea86b48f534aafddf199c2  360    13   \n\n   Mean_net_money_per_transaction  Std_net_money_per_transaction  \\\n0                          0.1755                       -0.63230   \n1                          0.3179                        0.05316   \n2                          0.1982                       -0.58600   \n3                         -0.3005                       -0.43600   \n4                          0.1142                       -0.71730   \n\n   Mean_spend_money_per_transaction  Mean_earn_money_per_transaction  ...  \\\n0                            0.2854                          -0.2333  ...   \n1                            0.2197                          -0.1380  ...   \n2                            0.2670                          -0.5190  ...   \n3                            0.2001                          -0.4202  ...   \n4                            0.2860                          -0.6133  ...   \n\n   trans_desc_is_man  moto_cat  some_building_materials  computers  \\\n0                  0         0                        0          0   \n1                  1         0                        0          0   \n2                  0         0                        0          0   \n3                  0         0                        0          0   \n4                  0         0                        0          0   \n\n   mens_relaxation  mens_clothes  womens_clothes  womens_beauty  womens_hobby  \\\n0                0             0               0              0             0   \n1                0             0               0              0             0   \n2                0             0               0              0             0   \n3                0             0               0              0             0   \n4                0             0               0              0             0   \n\n   womens_moment  \n0              0  \n1              0  \n2              0  \n3              0  \n4              0  \n\n[5 rows x 38 columns]",
      "text/html": "<div>\n<style scoped>\n    .dataframe tbody tr th:only-of-type {\n        vertical-align: middle;\n    }\n\n    .dataframe tbody tr th {\n        vertical-align: top;\n    }\n\n    .dataframe thead th {\n        text-align: right;\n    }\n</style>\n<table border=\"1\" class=\"dataframe\">\n  <thead>\n    <tr style=\"text-align: right;\">\n      <th></th>\n      <th>mcc_code</th>\n      <th>amount</th>\n      <th>gender</th>\n      <th>id</th>\n      <th>Day</th>\n      <th>Time</th>\n      <th>Mean_net_money_per_transaction</th>\n      <th>Std_net_money_per_transaction</th>\n      <th>Mean_spend_money_per_transaction</th>\n      <th>Mean_earn_money_per_transaction</th>\n      <th>...</th>\n      <th>trans_desc_is_man</th>\n      <th>moto_cat</th>\n      <th>some_building_materials</th>\n      <th>computers</th>\n      <th>mens_relaxation</th>\n      <th>mens_clothes</th>\n      <th>womens_clothes</th>\n      <th>womens_beauty</th>\n      <th>womens_hobby</th>\n      <th>womens_moment</th>\n    </tr>\n  </thead>\n  <tbody>\n    <tr>\n      <th>0</th>\n      <td>5411</td>\n      <td>0.07180</td>\n      <td>1</td>\n      <td>5da2eabcd7a953e750a8f77a3f296df6</td>\n      <td>333</td>\n      <td>23</td>\n      <td>0.1755</td>\n      <td>-0.63230</td>\n      <td>0.2854</td>\n      <td>-0.2333</td>\n      <td>...</td>\n      <td>0</td>\n      <td>0</td>\n      <td>0</td>\n      <td>0</td>\n      <td>0</td>\n      <td>0</td>\n      <td>0</td>\n      <td>0</td>\n      <td>0</td>\n      <td>0</td>\n    </tr>\n    <tr>\n      <th>1</th>\n      <td>6011</td>\n      <td>0.07300</td>\n      <td>1</td>\n      <td>4f7485a708eedc86aa4f22b76fe47724</td>\n      <td>367</td>\n      <td>0</td>\n      <td>0.3179</td>\n      <td>0.05316</td>\n      <td>0.2197</td>\n      <td>-0.1380</td>\n      <td>...</td>\n      <td>1</td>\n      <td>0</td>\n      <td>0</td>\n      <td>0</td>\n      <td>0</td>\n      <td>0</td>\n      <td>0</td>\n      <td>0</td>\n      <td>0</td>\n      <td>0</td>\n    </tr>\n    <tr>\n      <th>2</th>\n      <td>6010</td>\n      <td>0.09780</td>\n      <td>1</td>\n      <td>ef6db1e716daa37f342ff1c4866545ea</td>\n      <td>31</td>\n      <td>rare</td>\n      <td>0.1982</td>\n      <td>-0.58600</td>\n      <td>0.2670</td>\n      <td>-0.5190</td>\n      <td>...</td>\n      <td>0</td>\n      <td>0</td>\n      <td>0</td>\n      <td>0</td>\n      <td>0</td>\n      <td>0</td>\n      <td>0</td>\n      <td>0</td>\n      <td>0</td>\n      <td>0</td>\n    </tr>\n    <tr>\n      <th>3</th>\n      <td>5411</td>\n      <td>0.01631</td>\n      <td>1</td>\n      <td>5fa2ed6c577aed609f6dc4fdb9d0b20a</td>\n      <td>66</td>\n      <td>23</td>\n      <td>-0.3005</td>\n      <td>-0.43600</td>\n      <td>0.2001</td>\n      <td>-0.4202</td>\n      <td>...</td>\n      <td>0</td>\n      <td>0</td>\n      <td>0</td>\n      <td>0</td>\n      <td>0</td>\n      <td>0</td>\n      <td>0</td>\n      <td>0</td>\n      <td>0</td>\n      <td>0</td>\n    </tr>\n    <tr>\n      <th>4</th>\n      <td>6011</td>\n      <td>-0.10846</td>\n      <td>0</td>\n      <td>b4f418f44bea86b48f534aafddf199c2</td>\n      <td>360</td>\n      <td>13</td>\n      <td>0.1142</td>\n      <td>-0.71730</td>\n      <td>0.2860</td>\n      <td>-0.6133</td>\n      <td>...</td>\n      <td>0</td>\n      <td>0</td>\n      <td>0</td>\n      <td>0</td>\n      <td>0</td>\n      <td>0</td>\n      <td>0</td>\n      <td>0</td>\n      <td>0</td>\n      <td>0</td>\n    </tr>\n  </tbody>\n</table>\n<p>5 rows × 38 columns</p>\n</div>"
     },
     "execution_count": 122,
     "metadata": {},
     "output_type": "execute_result"
    }
   ],
   "source": [
    "test.head()"
   ],
   "metadata": {
    "collapsed": false,
    "pycharm": {
     "name": "#%%\n"
    }
   }
  },
  {
   "cell_type": "code",
   "execution_count": 123,
   "outputs": [],
   "source": [
    "# # Разделяем датасет на X, y\n",
    "X, y = ut.split_to_x_y(test, 'gender')\n",
    "\n",
    "X.drop(columns=['Time'], inplace=True)\n",
    "y['id'] = X['id']\n",
    "X.drop(columns=['id'], inplace=True)\n",
    "\n",
    "# Датафрейм с гендером уникальный пользователей:\n",
    "y_test = y.groupby(['id'])['gender'].unique().apply(lambda x: x[0])"
   ],
   "metadata": {
    "collapsed": false,
    "pycharm": {
     "name": "#%%\n"
    }
   }
  },
  {
   "cell_type": "markdown",
   "source": [
    "### Сначала тест не для уникального пользователя, а для каждой транзакции пользователя:"
   ],
   "metadata": {
    "collapsed": false,
    "pycharm": {
     "name": "#%% md\n"
    }
   }
  },
  {
   "cell_type": "code",
   "execution_count": 124,
   "outputs": [],
   "source": [
    "predict = xgb_model.predict(X)"
   ],
   "metadata": {
    "collapsed": false,
    "pycharm": {
     "name": "#%%\n"
    }
   }
  },
  {
   "cell_type": "code",
   "execution_count": 125,
   "outputs": [
    {
     "name": "stdout",
     "output_type": "stream",
     "text": [
      "              precision    recall  f1-score   support\n",
      "\n",
      "           0       0.95      0.96      0.96      1043\n",
      "           1       0.96      0.95      0.95       957\n",
      "\n",
      "    accuracy                           0.95      2000\n",
      "   macro avg       0.95      0.95      0.95      2000\n",
      "weighted avg       0.95      0.95      0.95      2000\n",
      "\n"
     ]
    }
   ],
   "source": [
    "print(classification_report(y_true=y.gender, y_pred=predict))"
   ],
   "metadata": {
    "collapsed": false,
    "pycharm": {
     "name": "#%%\n"
    }
   }
  },
  {
   "cell_type": "code",
   "execution_count": 126,
   "outputs": [],
   "source": [
    "### Предикт гендера для уникального пользователя:"
   ],
   "metadata": {
    "collapsed": false,
    "pycharm": {
     "name": "#%%\n"
    }
   }
  },
  {
   "cell_type": "code",
   "execution_count": 127,
   "outputs": [],
   "source": [
    "predict = pd.DataFrame(predict)\n",
    "# Добавим id пользователей\n",
    "predict['id'] = y['id']\n",
    "predict.index = predict.id\n",
    "predict = predict.drop(columns='id')\n",
    "predict = predict.rename(columns={0: 'y'})"
   ],
   "metadata": {
    "collapsed": false,
    "pycharm": {
     "name": "#%%\n"
    }
   }
  },
  {
   "cell_type": "markdown",
   "source": [
    "### Получим предикт гендера для уникального пользователя. Просто возьмем тот прогноз, значений которого больше:"
   ],
   "metadata": {
    "collapsed": false,
    "pycharm": {
     "name": "#%% md\n"
    }
   }
  },
  {
   "cell_type": "code",
   "execution_count": 128,
   "outputs": [
    {
     "name": "stderr",
     "output_type": "stream",
     "text": [
      "1549it [00:01, 1165.15it/s]\n"
     ]
    }
   ],
   "source": [
    "# Получаем нужный файл\n",
    "user_id = y_test.index\n",
    "res = pd.DataFrame()\n",
    "res['id'] = 0\n",
    "res['gender'] = 0\n",
    "\n",
    "for i, cur_id in tqdm(enumerate(user_id)):\n",
    "    df = predict.loc[cur_id]\n",
    "    try:\n",
    "        true_gen = df['y'].mode().iat[0]\n",
    "    except:\n",
    "        true_gen = df['y']\n",
    "    res.loc[i, 'id'] = cur_id\n",
    "    res.loc[i, 'gender'] = true_gen\n",
    "\n",
    "res.index = res.id\n",
    "res = res.drop(columns='id')\n",
    "# ut.plot_feature_importance(xgb_model.feature_importances_, X_train.columns, 'XGBoost')"
   ],
   "metadata": {
    "collapsed": false,
    "pycharm": {
     "name": "#%%\n"
    }
   }
  },
  {
   "cell_type": "code",
   "execution_count": 129,
   "outputs": [],
   "source": [
    "### Проверим, что индексы совпадают"
   ],
   "metadata": {
    "collapsed": false,
    "pycharm": {
     "name": "#%%\n"
    }
   }
  },
  {
   "cell_type": "code",
   "execution_count": 130,
   "outputs": [
    {
     "data": {
      "text/plain": "True"
     },
     "execution_count": 130,
     "metadata": {},
     "output_type": "execute_result"
    }
   ],
   "source": [
    "real = pd.DataFrame(y_test).sort_values(by='id')\n",
    "res = res.sort_values(by='id')\n",
    "all(real.index == res.index)"
   ],
   "metadata": {
    "collapsed": false,
    "pycharm": {
     "name": "#%%\n"
    }
   }
  },
  {
   "cell_type": "code",
   "execution_count": 131,
   "outputs": [
    {
     "name": "stdout",
     "output_type": "stream",
     "text": [
      "              precision    recall  f1-score   support\n",
      "\n",
      "           0       0.94      0.96      0.95       825\n",
      "           1       0.95      0.93      0.94       724\n",
      "\n",
      "    accuracy                           0.95      1549\n",
      "   macro avg       0.95      0.95      0.95      1549\n",
      "weighted avg       0.95      0.95      0.95      1549\n",
      "\n",
      "ROC_AUC: 0.9456387075171605\n"
     ]
    }
   ],
   "source": [
    "print(classification_report(y_pred=res, y_true=real))\n",
    "print('ROC_AUC:', roc_auc_score(y_score=res, y_true=real))"
   ],
   "metadata": {
    "collapsed": false,
    "pycharm": {
     "name": "#%%\n"
    }
   }
  },
  {
   "cell_type": "code",
   "execution_count": null,
   "outputs": [],
   "source": [],
   "metadata": {
    "collapsed": false,
    "pycharm": {
     "name": "#%%\n"
    }
   }
  }
 ],
 "metadata": {
  "kernelspec": {
   "display_name": "Python 3",
   "language": "python",
   "name": "python3"
  },
  "language_info": {
   "codemirror_mode": {
    "name": "ipython",
    "version": 2
   },
   "file_extension": ".py",
   "mimetype": "text/x-python",
   "name": "python",
   "nbconvert_exporter": "python",
   "pygments_lexer": "ipython2",
   "version": "2.7.6"
  }
 },
 "nbformat": 4,
 "nbformat_minor": 0
}